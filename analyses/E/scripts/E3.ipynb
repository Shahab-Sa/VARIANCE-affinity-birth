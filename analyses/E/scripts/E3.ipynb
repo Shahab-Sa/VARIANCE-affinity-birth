{
 "cells": [
  {
   "cell_type": "code",
   "execution_count": 1,
   "id": "f96a33ff-40a6-44ed-9aaa-436a0dc84982",
   "metadata": {},
   "outputs": [
    {
     "name": "stdout",
     "output_type": "stream",
     "text": [
      "Running...\n"
     ]
    }
   ],
   "source": [
    "# Python script for analyses of \"Antibody affinity birth through somatic hypermutation\" publication.\n",
    "# This pipeline is divided into X sections. At the beginning of each section there is a comment which indicates which figures of the publication are generated based on that section.\n",
    "\n",
    "# input sequences for these analyses are uploaded in data folder. By a successful run, the result of each section will be saved in output folder.\n",
    "print('Running...')\n",
    "import re\n",
    "import operator\n",
    "\n",
    "import os\n",
    "#import sys\n",
    "import pandas as pd\n",
    "import numpy as np\n",
    "\n",
    "import time\n",
    "import itertools\n",
    "import matplotlib.pyplot as plt\n",
    "import glob\n",
    "#import logomaker #https://logomaker.readthedocs.io\n",
    "\n",
    "# Functions\n",
    "def display_big():\n",
    "\n",
    "    # df = pd.DataFrame()\n",
    "    # pd.options.display.max_colwidth = 2000\n",
    "    pd.set_option('display.max_rows', 10)\n",
    "    pd.set_option('display.max_columns', 500)\n",
    "    pd.set_option('display.width', 1000)\n",
    "\n",
    "display_big()"
   ]
  },
  {
   "cell_type": "code",
   "execution_count": 2,
   "id": "f60c3d1b-a1c5-4d6c-946b-41fc40b8b156",
   "metadata": {},
   "outputs": [],
   "source": [
    "data_folder='../data'\n",
    "\n",
    "input_folder = os.getenv('VAR_IN_FOLDER', f\"{data_folder}/input\")\n",
    "output_folder = os.getenv('VAR_OUT_FOLDER', f\"{data_folder}/output\")"
   ]
  },
  {
   "cell_type": "code",
   "execution_count": 3,
   "id": "dd0338a0-9a67-48f5-bb0b-f9b175c9c16e",
   "metadata": {},
   "outputs": [],
   "source": [
    "def set_output_folder(section_output):\n",
    "    output_folder=data_folder+'/output/'+section_output\n",
    "\n",
    "    if not os.path.isdir(output_folder): # make output folder if it doesn't exist\n",
    "        os.makedirs(output_folder)\n",
    "    return(output_folder)"
   ]
  },
  {
   "cell_type": "code",
   "execution_count": 4,
   "id": "9138cbc4-c997-4be4-ab6d-820e6ae7d28a",
   "metadata": {
    "scrolled": true
   },
   "outputs": [],
   "source": [
    "# Section1: preparation\n",
    "\n",
    "output_folder_prep=set_output_folder('1_prep')\n",
    "output_folder_freq_pos=set_output_folder('3_freq_per_position')"
   ]
  },
  {
   "cell_type": "code",
   "execution_count": 5,
   "id": "05250a6b-f4de-4fd2-9cc9-29adf6e10f95",
   "metadata": {},
   "outputs": [],
   "source": [
    "dfs_expanded_nts_included=pd.read_csv('{}/../1_prep/dfs_expanded_nts_included.tsv'.format(output_folder_prep), sep='\\t', header=0, low_memory=False)\n",
    "dfs_expanded_nts_included.reset_index(inplace=True, drop=True)"
   ]
  },
  {
   "cell_type": "code",
   "execution_count": 6,
   "id": "8bd22f66-4ce3-487a-886b-8a897d5bf35a",
   "metadata": {},
   "outputs": [],
   "source": [
    "# dfs_expanded_nts_included = dfs_expanded_nts_included[dfs_expanded_nts_included['status']!='EarlyGC'].copy()"
   ]
  },
  {
   "cell_type": "code",
   "execution_count": 7,
   "id": "39ea40f7-6928-4e6f-8b05-e4e570165cbf",
   "metadata": {},
   "outputs": [],
   "source": [
    "df_frq_nts_mismatch=pd.DataFrame()\n",
    "\n",
    "grouping=dfs_expanded_nts_included.groupby(by=['status', 'mouse', 'dataset', 'chain', 'sub_dataset'])\n",
    "\n",
    "for grouped, df in grouping:\n",
    "    suffix='_'.join(grouped)\n",
    "    df.reset_index(drop=True, inplace=True)\n",
    "    num_seqs=len(df)\n",
    "\n",
    "    ref_nt=df.loc[0, 'ref_nt']\n",
    "    for p in range(0, len(ref_nt)):\n",
    "\n",
    "        mismatches_list = ['A', 'T', 'C', 'G']\n",
    "        mismatches_list.remove(ref_nt[p])\n",
    "        miss_instances = len(df[df['NT{}'.format(p)].apply(lambda x: True if x in mismatches_list else False)]) #mismatched instances\n",
    "        N_instances = len(df[df['NT{}'.format(p)].apply(lambda x: True if x=='N' else False)]) #N instances\n",
    "\n",
    "        if num_seqs-N_instances == 0:\n",
    "            df_frq_nts_mismatch.loc[p, suffix] = 0\n",
    "        else:\n",
    "            df_frq_nts_mismatch.loc[p, suffix] = miss_instances / (num_seqs-N_instances)\n",
    "\n",
    "df_frq_nts_mismatch.to_csv('{}/frq_nts_mismatches_included.tsv'.format(output_folder_freq_pos), sep = '\\t', index=False)"
   ]
  },
  {
   "cell_type": "code",
   "execution_count": 8,
   "id": "ab2e862f-e6e0-4358-9316-bb537f7f6be7",
   "metadata": {},
   "outputs": [
    {
     "data": {
      "text/plain": [
       "np.float64(1.0)"
      ]
     },
     "execution_count": 8,
     "metadata": {},
     "output_type": "execute_result"
    }
   ],
   "source": [
    "df_frq_nts_mismatch.max().max()"
   ]
  },
  {
   "cell_type": "code",
   "execution_count": 9,
   "id": "0e87bbf3-a7a6-49d7-b890-6b5a69f2583e",
   "metadata": {},
   "outputs": [
    {
     "data": {
      "text/plain": [
       "(np.int64(262), 'EarlyGC_HA-uMT_CGG_VH_0-1')"
      ]
     },
     "execution_count": 9,
     "metadata": {},
     "output_type": "execute_result"
    }
   ],
   "source": [
    "df_frq_nts_mismatch.stack().idxmax()"
   ]
  },
  {
   "cell_type": "code",
   "execution_count": 10,
   "id": "9aa75d3f-77b0-4699-9834-06ac26827413",
   "metadata": {},
   "outputs": [
    {
     "data": {
      "text/plain": [
       "np.float64(0.9439252336448598)"
      ]
     },
     "execution_count": 10,
     "metadata": {},
     "output_type": "execute_result"
    }
   ],
   "source": [
    "df_frq_nts_mismatch['LateGC_HA-uMT_CGG_VL_0-1'][240]"
   ]
  },
  {
   "cell_type": "code",
   "execution_count": 11,
   "id": "9f9e9f55-3bf9-4c23-9791-6e6bc0f79afc",
   "metadata": {},
   "outputs": [
    {
     "data": {
      "text/plain": [
       "np.float64(0.9439252336448598)"
      ]
     },
     "execution_count": 11,
     "metadata": {},
     "output_type": "execute_result"
    }
   ],
   "source": [
    "dfs_expanded_nts_excluded=pd.read_csv('{}/../1_prep/dfs_expanded_nts_excluded.tsv'.format(output_folder_prep), sep='\\t', header=0, low_memory=False)\n",
    "dfs_expanded_nts_excluded.reset_index(inplace=True, drop=True)\n",
    "dfs_expanded_nts_excluded = dfs_expanded_nts_excluded[dfs_expanded_nts_excluded['status']!='EarlyGC'].copy()\n",
    "df_frq_nts_mismatch=pd.DataFrame()\n",
    "\n",
    "grouping=dfs_expanded_nts_excluded.groupby(by=['status', 'mouse', 'dataset', 'chain', 'sub_dataset'])\n",
    "\n",
    "for grouped, df in grouping:\n",
    "    suffix='_'.join(grouped)\n",
    "    df.reset_index(drop=True, inplace=True)\n",
    "    num_seqs=len(df)\n",
    "\n",
    "    ref_nt=df.loc[0, 'ref_nt']\n",
    "    for p in range(0, len(ref_nt)):\n",
    "\n",
    "        mismatches_list = ['A', 'T', 'C', 'G']\n",
    "        mismatches_list.remove(ref_nt[p])\n",
    "        miss_instances = len(df[df['NT{}'.format(p)].apply(lambda x: True if x in mismatches_list else False)]) #mismatched instances\n",
    "        N_instances = len(df[df['NT{}'.format(p)].apply(lambda x: True if x=='N' else False)]) #N instances\n",
    "\n",
    "        if num_seqs-N_instances == 0:\n",
    "            df_frq_nts_mismatch.loc[p, suffix] = 0\n",
    "        else:\n",
    "            df_frq_nts_mismatch.loc[p, suffix] = miss_instances / (num_seqs-N_instances)\n",
    "\n",
    "df_frq_nts_mismatch.to_csv('{}/frq_nts_mismatches_excluded.tsv'.format(output_folder_freq_pos), sep = '\\t', index=False)\n",
    "df_frq_nts_mismatch.max().max()"
   ]
  },
  {
   "cell_type": "code",
   "execution_count": null,
   "id": "622a49c1-1237-4ef5-bc50-df9edbdbb427",
   "metadata": {},
   "outputs": [],
   "source": []
  },
  {
   "cell_type": "code",
   "execution_count": null,
   "id": "d27f40cc-f41c-4e02-97bd-be4b85d6b38c",
   "metadata": {},
   "outputs": [],
   "source": []
  },
  {
   "cell_type": "code",
   "execution_count": null,
   "id": "2d9aaf21-87be-4344-8638-09a207214c6c",
   "metadata": {},
   "outputs": [],
   "source": []
  }
 ],
 "metadata": {
  "kernelspec": {
   "display_name": "Python 3 (ipykernel)",
   "language": "python",
   "name": "python3"
  },
  "language_info": {
   "codemirror_mode": {
    "name": "ipython",
    "version": 3
   },
   "file_extension": ".py",
   "mimetype": "text/x-python",
   "name": "python",
   "nbconvert_exporter": "python",
   "pygments_lexer": "ipython3",
   "version": "3.9.20"
  }
 },
 "nbformat": 4,
 "nbformat_minor": 5
}
