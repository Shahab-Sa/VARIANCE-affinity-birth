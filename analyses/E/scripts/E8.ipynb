{
 "cells": [
  {
   "cell_type": "code",
   "execution_count": 1,
   "id": "f96a33ff-40a6-44ed-9aaa-436a0dc84982",
   "metadata": {},
   "outputs": [
    {
     "name": "stdout",
     "output_type": "stream",
     "text": [
      "Running...\n"
     ]
    }
   ],
   "source": [
    "# Python script for analyses of \"Antibody affinity birth through somatic hypermutation\" publication.\n",
    "# This pipeline is divided into X sections. At the beginning of each section there is a comment which indicates which figures of the publication are generated based on that section.\n",
    "\n",
    "# input sequences for these analyses are uploaded in data folder. By a successful run, the result of each section will be saved in output folder.\n",
    "print('Running...')\n",
    "import re\n",
    "import operator\n",
    "\n",
    "import os\n",
    "#import sys\n",
    "import pandas as pd\n",
    "import numpy as np\n",
    "\n",
    "import time\n",
    "import itertools\n",
    "import matplotlib.pyplot as plt\n",
    "import glob\n",
    "#import logomaker #https://logomaker.readthedocs.io\n",
    "\n",
    "# Functions\n",
    "def display_big():\n",
    "\n",
    "    # df = pd.DataFrame()\n",
    "    # pd.options.display.max_colwidth = 2000\n",
    "    pd.set_option('display.max_rows', 10)\n",
    "    pd.set_option('display.max_columns', 200)\n",
    "    pd.set_option('display.width', 1000)\n",
    "\n",
    "display_big()"
   ]
  },
  {
   "cell_type": "code",
   "execution_count": 2,
   "id": "f60c3d1b-a1c5-4d6c-946b-41fc40b8b156",
   "metadata": {},
   "outputs": [],
   "source": [
    "data_folder='../data'\n",
    "\n",
    "input_folder = os.getenv('VAR_IN_FOLDER', f\"{data_folder}/input\")\n",
    "output_folder = os.getenv('VAR_OUT_FOLDER', f\"{data_folder}/output\")"
   ]
  },
  {
   "cell_type": "code",
   "execution_count": 3,
   "id": "dd0338a0-9a67-48f5-bb0b-f9b175c9c16e",
   "metadata": {},
   "outputs": [],
   "source": [
    "def set_output_folder(section_output):\n",
    "    output_folder=data_folder+'/output/'+section_output\n",
    "\n",
    "    if not os.path.isdir(output_folder): # make output folder if it doesn't exist\n",
    "        os.makedirs(output_folder)\n",
    "    return(output_folder)"
   ]
  },
  {
   "cell_type": "code",
   "execution_count": 4,
   "id": "9138cbc4-c997-4be4-ab6d-820e6ae7d28a",
   "metadata": {
    "scrolled": true
   },
   "outputs": [],
   "source": [
    "# Section1: preparation\n",
    "\n",
    "output_folder_prep=set_output_folder('1_prep')\n",
    "output_folder_num_miss=set_output_folder('2_num_miss')\n",
    "output_folder_freq_pos=set_output_folder('3_freq_per_position')\n",
    "output_folder_donuts=set_output_folder('4_donuts')\n",
    "output_folder_seq_logos=set_output_folder('5_seq_logos')\n",
    "output_folder_rs_prep=set_output_folder('6_prep_rs')\n",
    "output_folder_rs=set_output_folder('7_rs')\n",
    "output_folder_prep_plots=set_output_folder('8_prep_plots')\n"
   ]
  },
  {
   "cell_type": "code",
   "execution_count": 5,
   "id": "30808ec5-731d-4876-be6a-37240dc07db5",
   "metadata": {},
   "outputs": [],
   "source": [
    "del_sign='-'\n",
    "ambiguity_sign='.'\n",
    "aas_dic={'AAA':'K','AAC':'N','AAT':'N','AAG':'K','ACA':'T','ACC':'T','ACT':'T','ACG':'T','ATA':'I','ATC':'I',\\\n",
    "        'ATT':'I','ATG':'M','AGA':'R','AGC':'S','AGT':'S','AGG':'R','CAA':'Q','CAC':'H','CAT':'H','CAG':'Q',\\\n",
    "        'CCA':'P','CCC':'P','CCT':'P','CCG':'P','CTA':'L','CTC':'L','CTT':'L','CTG':'L','CGA':'R','CGC':'R',\\\n",
    "        'CGT':'R','CGG':'R','TAA':'*','TAC':'Y','TAT':'Y','TAG':'*','TCA':'S','TCC':'S','TCT':'S','TCG':'S',\\\n",
    "        'TTA':'L','TTC':'F','TTT':'F','TTG':'L','TGA':'*','TGC':'C','TGT':'C','TGG':'W','GAA':'E','GAC':'D',\\\n",
    "        'GAT':'D','GAG':'E','GCA':'A','GCC':'A','GCT':'A','GCG':'A','GTA':'V','GTC':'V','GTT':'V','GTG':'V',\\\n",
    "        'GGA':'G','GGC':'G','GGT':'G','GGG':'G','---':del_sign}\n",
    "aas_list=['A', 'C', 'D', 'E', 'F', 'G', 'H', 'I', 'K', 'L', 'M', 'N', 'P', 'Q', 'R', 'S', 'T', 'V', 'W', 'Y', '*', del_sign]\n",
    "aas_chemistry_list=['I', 'V', 'L', 'F', 'C', 'M', 'A', 'W', 'G', 'T', 'S', 'Y', 'P', 'H', 'N', 'D', 'Q', 'E', 'K', 'R']\n",
    "nts_list=['A', 'C', 'G', 'T', del_sign, ambiguity_sign]"
   ]
  },
  {
   "cell_type": "code",
   "execution_count": 6,
   "id": "703f3f42-a79f-42fd-b810-c4e0d826699f",
   "metadata": {},
   "outputs": [],
   "source": [
    "modes_dic={ 1 : {'mouse' : 'B18-383', 'datasets': ['OVA', 'APC', 'CGG', 'Passenger'], 'chain':'VH'},\n",
    "            2 : {'mouse' : 'HA-WT', 'datasets': ['OVA', 'APC', 'CGG', 'mix'], 'chain':'VH'},\n",
    "           \n",
    "            3 : {'mouse' : 'B18-383', 'datasets': ['OVA-CTLA4', 'OVA-Isotype'], 'chain':'VH'},\n",
    "            4 : {'mouse' : 'HA-uMT', 'datasets': ['OVA-CTLA4', 'OVA-Isotype'], 'chain':'VH'},\n",
    "            5 : {'mouse' : 'HA-WT', 'datasets': ['CGG-CTLA4', 'CGG-Isotype'], 'chain':'VH'},\n",
    "\n",
    "            6 : {'mouse' : 'B18-383', 'datasets': ['OVA-CTLA4', 'OVA-Isotype'], 'chain':'VL'},\n",
    "            7 : {'mouse' : 'HA-uMT', 'datasets': ['OVA-CTLA4', 'OVA-Isotype'], 'chain':'VL'},\n",
    "            8 : {'mouse' : 'HA-WT', 'datasets': ['CGG-CTLA4', 'CGG-Isotype'], 'chain':'VL'}}"
   ]
  },
  {
   "cell_type": "raw",
   "id": "a37b3368-ecca-4a46-90eb-c952d52b78e2",
   "metadata": {},
   "source": [
    "for mode in modes_dic.keys():\n",
    "    dfs=pd.read_csv('{}/dfs_expanded_aas_excluded.tsv'.format(output_folder_prep), sep='\\t', header=0, low_memory=False)\n",
    "    chain='VH'\n",
    "\n",
    "    mouse=modes_dic[mode]['mouse']\n",
    "    dataset=modes_dic[mode]['dataset']\n",
    "\n",
    "\n",
    "    if mode == 1:\n",
    "        dfs=dfs.loc[\n",
    "        (dfs['label']=='LateGC_B18-383_OVA_VH_-') |\\\n",
    "        (dfs['label']=='LateGC_B18-383_APC_VH_-') |\\\n",
    "        (dfs['label']=='LateGC_B18-383_CGG_VH_-') |\\\n",
    "        (dfs['label']=='Published_B18_Passenger_VH_-') \\\n",
    "        ,].copy()\n",
    "        set(dfs['label'])\n",
    "    \n",
    "    elif mode == 2:\n",
    "        dfs=dfs.loc[\n",
    "        (dfs['label']=='LateGC_HA-WT_OVA_VH_1-1') |\\\n",
    "        (dfs['label']=='LateGC_HA-WT_APC_VH_1-1') |\\\n",
    "        (dfs['label']=='LateGC_HA-WT_CGG_VH_1-1') |\\\n",
    "        (dfs['label']=='LateGC_HA-WT_mix_VH_1-1') \\\n",
    "        ,].copy()\n",
    "        print(set(dfs['label']))\n",
    "    "
   ]
  },
  {
   "cell_type": "code",
   "execution_count": 7,
   "id": "bfff96d8-6655-46c9-bd16-6e27b39885aa",
   "metadata": {},
   "outputs": [
    {
     "name": "stdout",
     "output_type": "stream",
     "text": [
      "{'LateGC_B18-383_CGG_VH_-', 'Published_B18_Passenger_VH_-', 'LateGC_B18-383_APC_VH_-', 'LateGC_B18-383_OVA_VH_-'}\n",
      "Mode : 1 B18-383 VH ['OVA', 'APC', 'CGG', 'Passenger']\n"
     ]
    },
    {
     "name": "stderr",
     "output_type": "stream",
     "text": [
      "/tmp/ipykernel_226622/3024504179.py:92: FutureWarning: Downcasting object dtype arrays on .fillna, .ffill, .bfill is deprecated and will change in a future version. Call result.infer_objects(copy=False) instead. To opt-in to the future behavior, set `pd.set_option('future.no_silent_downcasting', True)`\n",
      "  df_aa.fillna(np.nan, inplace=True)\n"
     ]
    },
    {
     "name": "stdout",
     "output_type": "stream",
     "text": [
      "{'LateGC_HA-uMT_OVA_VH_0-1', 'LateGC_HA-uMT_CGG_VH_0-1', 'LateGC_HA-uMT_APC_VH_0-1', 'LateGC_HA-WT_mix_VH_1-1'}\n",
      "Mode : 2 HA-WT VH ['OVA', 'APC', 'CGG', 'mix']\n"
     ]
    },
    {
     "name": "stderr",
     "output_type": "stream",
     "text": [
      "/tmp/ipykernel_226622/3024504179.py:92: FutureWarning: Downcasting object dtype arrays on .fillna, .ffill, .bfill is deprecated and will change in a future version. Call result.infer_objects(copy=False) instead. To opt-in to the future behavior, set `pd.set_option('future.no_silent_downcasting', True)`\n",
      "  df_aa.fillna(np.nan, inplace=True)\n"
     ]
    },
    {
     "name": "stdout",
     "output_type": "stream",
     "text": [
      "{'LateGC_B18-383_OVA-Isotype_VH_-', 'LateGC_B18-383_OVA-CTLA4_VH_-'}\n",
      "Mode : 3 B18-383 VH ['OVA-CTLA4', 'OVA-Isotype']\n"
     ]
    },
    {
     "name": "stderr",
     "output_type": "stream",
     "text": [
      "/tmp/ipykernel_226622/3024504179.py:92: FutureWarning: Downcasting object dtype arrays on .fillna, .ffill, .bfill is deprecated and will change in a future version. Call result.infer_objects(copy=False) instead. To opt-in to the future behavior, set `pd.set_option('future.no_silent_downcasting', True)`\n",
      "  df_aa.fillna(np.nan, inplace=True)\n"
     ]
    },
    {
     "name": "stdout",
     "output_type": "stream",
     "text": [
      "{'LateGC_HA-uMT_OVA-CTLA4_VH_0-1', 'LateGC_HA-uMT_OVA-Isotype_VH_0-1'}\n",
      "Mode : 4 HA-uMT VH ['OVA-CTLA4', 'OVA-Isotype']\n"
     ]
    },
    {
     "name": "stderr",
     "output_type": "stream",
     "text": [
      "/tmp/ipykernel_226622/3024504179.py:92: FutureWarning: Downcasting object dtype arrays on .fillna, .ffill, .bfill is deprecated and will change in a future version. Call result.infer_objects(copy=False) instead. To opt-in to the future behavior, set `pd.set_option('future.no_silent_downcasting', True)`\n",
      "  df_aa.fillna(np.nan, inplace=True)\n"
     ]
    },
    {
     "name": "stdout",
     "output_type": "stream",
     "text": [
      "{'LateGC_HA-WT_CGG-CTLA4_VH_1-1000', 'LateGC_HA-WT_CGG-Isotype_VH_1-1000'}\n",
      "Mode : 5 HA-WT VH ['CGG-CTLA4', 'CGG-Isotype']\n"
     ]
    },
    {
     "name": "stderr",
     "output_type": "stream",
     "text": [
      "/tmp/ipykernel_226622/3024504179.py:92: FutureWarning: Downcasting object dtype arrays on .fillna, .ffill, .bfill is deprecated and will change in a future version. Call result.infer_objects(copy=False) instead. To opt-in to the future behavior, set `pd.set_option('future.no_silent_downcasting', True)`\n",
      "  df_aa.fillna(np.nan, inplace=True)\n"
     ]
    },
    {
     "name": "stdout",
     "output_type": "stream",
     "text": [
      "{'LateGC_B18-383_OVA-Isotype_VL_-', 'LateGC_B18-383_OVA-CTLA4_VL_-'}\n",
      "Mode : 6 B18-383 VL ['OVA-CTLA4', 'OVA-Isotype']\n"
     ]
    },
    {
     "name": "stderr",
     "output_type": "stream",
     "text": [
      "/tmp/ipykernel_226622/3024504179.py:92: FutureWarning: Downcasting object dtype arrays on .fillna, .ffill, .bfill is deprecated and will change in a future version. Call result.infer_objects(copy=False) instead. To opt-in to the future behavior, set `pd.set_option('future.no_silent_downcasting', True)`\n",
      "  df_aa.fillna(np.nan, inplace=True)\n"
     ]
    },
    {
     "name": "stdout",
     "output_type": "stream",
     "text": [
      "{'LateGC_HA-uMT_OVA-CTLA4_VL_0-1', 'LateGC_HA-uMT_OVA-Isotype_VL_0-1'}\n",
      "Mode : 7 HA-uMT VL ['OVA-CTLA4', 'OVA-Isotype']\n"
     ]
    },
    {
     "name": "stderr",
     "output_type": "stream",
     "text": [
      "/tmp/ipykernel_226622/3024504179.py:92: FutureWarning: Downcasting object dtype arrays on .fillna, .ffill, .bfill is deprecated and will change in a future version. Call result.infer_objects(copy=False) instead. To opt-in to the future behavior, set `pd.set_option('future.no_silent_downcasting', True)`\n",
      "  df_aa.fillna(np.nan, inplace=True)\n"
     ]
    },
    {
     "name": "stdout",
     "output_type": "stream",
     "text": [
      "{'LateGC_HA-WT_CGG-CTLA4_VL_1-1000', 'LateGC_HA-WT_CGG-Isotype_VL_1-1000'}\n",
      "Mode : 8 HA-WT VL ['CGG-CTLA4', 'CGG-Isotype']\n"
     ]
    },
    {
     "name": "stderr",
     "output_type": "stream",
     "text": [
      "/tmp/ipykernel_226622/3024504179.py:92: FutureWarning: Downcasting object dtype arrays on .fillna, .ffill, .bfill is deprecated and will change in a future version. Call result.infer_objects(copy=False) instead. To opt-in to the future behavior, set `pd.set_option('future.no_silent_downcasting', True)`\n",
      "  df_aa.fillna(np.nan, inplace=True)\n"
     ]
    }
   ],
   "source": [
    "# Section6: Preparing data for scatter plots\n",
    "\n",
    "modes_dic\n",
    "\n",
    "for mode in modes_dic.keys():\n",
    "    dfs=pd.read_csv('{}/dfs_expanded_aas_excluded.tsv'.format(output_folder_prep), sep='\\t', header=0, low_memory=False)\n",
    "\n",
    "    mouse=modes_dic[mode]['mouse']\n",
    "    datasets=modes_dic[mode]['datasets']\n",
    "    chain=modes_dic[mode]['chain']\n",
    "\n",
    "    # if mode==1 and chain=='VL':\n",
    "    #     datasets.remove('Passenger')\n",
    "    #     print('passenger removed from VL dataset list', datasets)\n",
    "    mouse\n",
    "\n",
    "\n",
    "    if mode == 1:\n",
    "        dfs=dfs.loc[\n",
    "        (dfs['label']=='LateGC_B18-383_OVA_VH_-') |\\\n",
    "        (dfs['label']=='LateGC_B18-383_APC_VH_-') |\\\n",
    "        (dfs['label']=='LateGC_B18-383_CGG_VH_-') |\\\n",
    "        (dfs['label']=='Published_B18_Passenger_VH_-') \\\n",
    "        ,].copy()\n",
    "        print(set(dfs['label']))\n",
    "\n",
    "    elif mode == 2:\n",
    "        dfs=dfs.loc[\n",
    "        (dfs['label']=='LateGC_HA-uMT_OVA_VH_0-1') |\\\n",
    "        (dfs['label']=='LateGC_HA-uMT_APC_VH_0-1') |\\\n",
    "        (dfs['label']=='LateGC_HA-uMT_CGG_VH_0-1') |\\\n",
    "        (dfs['label']=='LateGC_HA-WT_mix_VH_1-1') \\\n",
    "        ,].copy()\n",
    "        print(set(dfs['label']))\n",
    "            \n",
    "    elif mode == 3:\n",
    "        dfs=dfs.loc[\n",
    "        (dfs['label']=='LateGC_B18-383_OVA-CTLA4_VH_-') |\\\n",
    "        (dfs['label']=='LateGC_B18-383_OVA-Isotype_VH_-') \\\n",
    "        ,].copy()\n",
    "        print(set(dfs['label']))\n",
    "\n",
    "    elif mode == 4:\n",
    "        dfs=dfs.loc[\n",
    "        (dfs['label']=='LateGC_HA-uMT_OVA-CTLA4_VH_0-1') |\\\n",
    "        (dfs['label']=='LateGC_HA-uMT_OVA-Isotype_VH_0-1') \\\n",
    "        ,].copy()\n",
    "        print(set(dfs['label']))\n",
    "\n",
    "    elif mode == 5:\n",
    "        dfs=dfs.loc[\n",
    "        (dfs['label']=='LateGC_HA-WT_CGG-CTLA4_VH_1-1000') |\\\n",
    "        (dfs['label']=='LateGC_HA-WT_CGG-Isotype_VH_1-1000') \\\n",
    "        ,].copy()\n",
    "        print(set(dfs['label']))    \t\n",
    "\n",
    "    elif mode == 6:\n",
    "        dfs=dfs.loc[\n",
    "        (dfs['label']=='LateGC_B18-383_OVA-CTLA4_VL_-') |\\\n",
    "        (dfs['label']=='LateGC_B18-383_OVA-Isotype_VL_-') \\\n",
    "        ,].copy()\n",
    "        print(set(dfs['label']))\n",
    "    \n",
    "    elif mode == 7:\n",
    "        dfs=dfs.loc[\n",
    "        (dfs['label']=='LateGC_HA-uMT_OVA-CTLA4_VL_0-1') |\\\n",
    "        (dfs['label']=='LateGC_HA-uMT_OVA-Isotype_VL_0-1') \\\n",
    "        ,].copy()\n",
    "        print(set(dfs['label']))\n",
    "    \n",
    "    elif mode == 8:\n",
    "        dfs=dfs.loc[\n",
    "        (dfs['label']=='LateGC_HA-WT_CGG-CTLA4_VL_1-1000') |\\\n",
    "        (dfs['label']=='LateGC_HA-WT_CGG-Isotype_VL_1-1000') \\\n",
    "        ,].copy()\n",
    "        print(set(dfs['label']))    \t\n",
    "        \n",
    "    print('Mode :', mode, mouse, chain, datasets)\n",
    "        \n",
    "    # dfs=my.funcs.df_clean_up(dfs)\n",
    "    # dfs=dfs[dfs['aa_miss']!=0]\n",
    "    dfs.reset_index(inplace=True, drop=True)\n",
    "    dfs\n",
    "\n",
    "    len_aa=int(dfs['len_aa'].values[0])\n",
    "    len_aa\n",
    "\n",
    "    ref_aa=dfs['ref_aa'].values[0]\n",
    "    ref_aa\n",
    "\n",
    "    df_aa=pd.DataFrame(columns=[i for i in range(0,len_aa)], index=aas_list)\n",
    "    df_aa.fillna(np.nan, inplace=True)\n",
    "    df_aa\n",
    "\n",
    "    def update_df_aa(case, position, diff_list):\n",
    "\n",
    "        value = { 1:1, 2:2, 3:3, 12: 4, 13: 5, 23: 6, 123: 7, 4:8, 14:9, 24:10, 34:11, 124:12, 234:13, 134:14, 1234:15, 'ref':np.nan}\n",
    "\n",
    "        if diff_list:\n",
    "            for aminoacid in diff_list:\n",
    "                df_aa.loc[aminoacid,position]=value[case]\n",
    "\n",
    "    aa_dic = dict()  #{'OVA_p0': {'A', 'S'}, 'APC_p0': {'S'}, 'CGG_p0': {'P', 'S'}}\n",
    "    # dif_dic = dict() #{'OVA_aa0': ['A'], 'APC_aa0': [],  'CGG_aa0': ['P'], 'intersection_aa0': ['S']}\n",
    "\n",
    "    for i in range(0, len_aa): #106 for B18-383, 101 for HA-uMT\n",
    "        for dataset in datasets:\n",
    "            # dataset='OVA'\n",
    "            df_now=dfs[dfs['dataset']==dataset]\n",
    "            # print(dataset, 'df length: ', len(df_now))\n",
    "            aa_dic['{}_p{}'.format(dataset, i)]=set(df_now.loc[:,'A{}'.format(i)])\n",
    "\n",
    "\n",
    "        A=aa_dic['{}_p{}'.format(datasets[0],i)]\n",
    "        B=aa_dic['{}_p{}'.format(datasets[1],i)]\n",
    "        if len(datasets)==2:\n",
    "            C=set()\n",
    "            D=set()\n",
    "        elif len(datasets)==3:\n",
    "            C=aa_dic['{}_p{}'.format(datasets[2],i)]\n",
    "            D=set()\n",
    "        elif len(datasets)==4:\n",
    "            C=aa_dic['{}_p{}'.format(datasets[2],i)]\n",
    "            D=aa_dic['{}_p{}'.format(datasets[3],i)]\n",
    "\n",
    "        # print(A)\n",
    "        # print(B)\n",
    "        # print(C)\n",
    "        # print(D)\n",
    "\n",
    "        update_df_aa(1, i, list(A.difference(B, C, D)))\n",
    "        update_df_aa(2, i, list(B.difference(A, C, D)))\n",
    "        update_df_aa(3, i, list(C.difference(A, B, D)))\n",
    "        update_df_aa(4, i, list(D.difference(A, B, C)))\n",
    "\n",
    "\n",
    "        _12=A & B\n",
    "        _13=A & C\n",
    "        _23=B & C\n",
    "\n",
    "        _14=A & D\n",
    "        _24=B & D\n",
    "        _34=C & D\n",
    "\n",
    "        _123=A & B & C\n",
    "        _124=A & B & D\n",
    "        _134=A & C & D\n",
    "        _234=B & C & D\n",
    "\n",
    "        _1234=A & B & C & D\n",
    "\n",
    "        update_df_aa(12, i, _12-_123-_124-_1234)\n",
    "        update_df_aa(13, i, _13-_123-_134-_1234)\n",
    "        update_df_aa(23, i, _23-_123-_234-_1234)\n",
    "\n",
    "        update_df_aa(14, i, _14-_124-_134-_1234)\n",
    "        update_df_aa(24, i, _24-_124-_234-_1234)\n",
    "        update_df_aa(34, i, _34-_234-_134-_1234)\n",
    "\n",
    "        update_df_aa(123, i, _123-_1234)\n",
    "        update_df_aa(124, i, _124-_1234)\n",
    "        update_df_aa(134, i, _134-_1234)\n",
    "        update_df_aa(234, i, _234-_1234)\n",
    "\n",
    "        update_df_aa(1234, i, _1234)\n",
    "        update_df_aa('ref', i, list(ref_aa[i]))\n",
    "        # break\n",
    "\n",
    "    df_aa\n",
    "\n",
    "    df_aa.to_csv('{}/df_aa_mode{}_{}.tsv'.format(output_folder_prep_plots, mode, chain), sep = '\\t', index=True)"
   ]
  },
  {
   "cell_type": "code",
   "execution_count": 8,
   "id": "61bd71e5-658b-443d-b43c-eb7b674017f9",
   "metadata": {},
   "outputs": [
    {
     "data": {
      "text/plain": [
       "'Done!'"
      ]
     },
     "execution_count": 8,
     "metadata": {},
     "output_type": "execute_result"
    }
   ],
   "source": [
    "'Done!'"
   ]
  },
  {
   "cell_type": "code",
   "execution_count": null,
   "id": "b3f6d010-4266-4c30-a7c0-3f8302a28a60",
   "metadata": {},
   "outputs": [],
   "source": []
  },
  {
   "cell_type": "code",
   "execution_count": null,
   "id": "df584b41-b96d-4d50-b7ba-241e57fd39b6",
   "metadata": {},
   "outputs": [],
   "source": []
  },
  {
   "cell_type": "code",
   "execution_count": null,
   "id": "b90366b1-4718-499c-aa8b-21445c186cc9",
   "metadata": {},
   "outputs": [],
   "source": []
  }
 ],
 "metadata": {
  "kernelspec": {
   "display_name": "Python 3 (ipykernel)",
   "language": "python",
   "name": "python3"
  },
  "language_info": {
   "codemirror_mode": {
    "name": "ipython",
    "version": 3
   },
   "file_extension": ".py",
   "mimetype": "text/x-python",
   "name": "python",
   "nbconvert_exporter": "python",
   "pygments_lexer": "ipython3",
   "version": "3.9.20"
  }
 },
 "nbformat": 4,
 "nbformat_minor": 5
}
